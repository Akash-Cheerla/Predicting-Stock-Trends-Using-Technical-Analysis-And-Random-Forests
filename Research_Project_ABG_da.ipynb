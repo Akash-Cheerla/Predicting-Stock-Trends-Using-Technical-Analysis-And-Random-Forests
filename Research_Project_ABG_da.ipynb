{
 "cells": [
  {
   "cell_type": "markdown",
   "metadata": {},
   "source": [
    "# Project Setup"
   ]
  },
  {
   "cell_type": "markdown",
   "metadata": {},
   "source": [
    "# Import Libraries"
   ]
  },
  {
   "cell_type": "code",
   "execution_count": null,
   "metadata": {
    "scrolled": true
   },
   "outputs": [],
   "source": [
    "\n",
    "#Import Libraries\n",
    "\n",
    "import warnings\n",
    "warnings.filterwarnings(\"ignore\")\n",
    "\n",
    "import os\n",
    "import pandas as pd\n",
    "import numpy as np\n",
    "import talib\n",
    "import matplotlib.pyplot as plt\n",
    "%matplotlib inline\n",
    "import datetime\n",
    "from sklearn import linear_model\n",
    "from sklearn.metrics import accuracy_score,log_loss,precision_score,roc_auc_score,confusion_matrix\n",
    "from sklearn.preprocessing import MinMaxScaler,StandardScaler\n",
    "from sklearn.ensemble import RandomForestClassifier\n",
    "from sklearn.cross_validation import train_test_split\n"
   ]
  },
  {
   "cell_type": "markdown",
   "metadata": {},
   "source": [
    "# Import and Downlad Data"
   ]
  },
  {
   "cell_type": "code",
   "execution_count": null,
   "metadata": {},
   "outputs": [],
   "source": [
    "#ImportData\n",
    "\n",
    "path = \"C:/Users/User/Desktop/Research Project/Top40_Investing\"\n",
    "os.chdir(path)\n",
    "\n",
    "df = pd.read_csv(\"ABG.csv\", index_col=0, parse_dates=True)\n",
    "df = df[['Price', 'Open', 'High', 'Low', 'Volume']]\n",
    "\n",
    "df1 = df.copy()\n",
    "\n",
    "stock_high = df['High']\n",
    "stock_low = df['Low']\n",
    "stock_open = df['Open']\n",
    "stock_close = df['Price']\n",
    "stock_volume = df['Volume']\n"
   ]
  },
  {
   "cell_type": "markdown",
   "metadata": {},
   "source": [
    "# Oscillators and Trend Following Indicators"
   ]
  },
  {
   "cell_type": "markdown",
   "metadata": {},
   "source": [
    "# 1. MACD and MACD HISTOGRAM"
   ]
  },
  {
   "cell_type": "code",
   "execution_count": null,
   "metadata": {},
   "outputs": [],
   "source": [
    "#Compute MACD and MACD Histogram\n",
    "macd, macdsignal, macdhist = talib.MACD(stock_close, fastperiod=26, slowperiod=12, signalperiod=9)\n",
    "dict = {'MACD': macd, 'MSIG': macdsignal}\n",
    "macdata = []\n",
    "macdata = pd.DataFrame(data=dict)\n",
    "macdata.dropna(inplace=True)\n",
    "macdata['MACD_Signal1'] = macdata.apply(lambda x : 1 if x['MACD'] > x['MSIG'] else 0, axis = 1)\n",
    "n_days = len(macdata['MACD'])\n",
    "Signal = macdata['MACD_Signal1']\n",
    "psy = []\n",
    "\n",
    "for d in range(0, n_days):\n",
    "    \n",
    "    if Signal[d] == 1:\n",
    "        psycology = 1\n",
    "        psy.append(psycology)\n",
    "    \n",
    "    elif Signal[d] == 0:\n",
    "        psycology = 0\n",
    "        psy.append(psycology)\n",
    "        \n",
    "macdata['MACD_Signal'] = psy\n",
    "del macdata['MACD_Signal1']\n",
    "\n",
    "dict = {'MHIST': macdhist, 'PrevMHIST': macdhist.shift(1)}\n",
    "machdata = []\n",
    "machdata = pd.DataFrame(data=dict)\n",
    "machdata.dropna(inplace=True)\n",
    "machdata['MHIST_Signal1'] = machdata.apply(lambda x : 1 if x['MHIST'] > x['PrevMHIST'] else 0, axis = 1)\n",
    "n_days = len(machdata['MHIST'])\n",
    "Signal = machdata['MHIST_Signal1']\n",
    "psy = []\n",
    "\n",
    "for d in range(0, n_days):\n",
    "    \n",
    "    if Signal[d] == 1:\n",
    "        psycology = 1\n",
    "        psy.append(psycology)\n",
    "    \n",
    "    elif Signal[d] == 0:\n",
    "        psycology = 0\n",
    "        psy.append(psycology)\n",
    "        \n",
    "machdata['MHIST_Signal'] = psy\n",
    "del machdata['MHIST_Signal1']"
   ]
  },
  {
   "cell_type": "markdown",
   "metadata": {},
   "source": [
    "# 2. Average Directional Index (ADX)"
   ]
  },
  {
   "cell_type": "code",
   "execution_count": null,
   "metadata": {},
   "outputs": [],
   "source": [
    "#Compute Average Directional Index (ADX)\n",
    "adx = talib.ADX(stock_high, stock_low, stock_close, timeperiod=14)\n",
    "dict = {'Close': stock_close, 'ADX': adx }\n",
    "adxdata = []\n",
    "adxdata = pd.DataFrame(data=dict)\n",
    "adxdata.dropna(inplace=True)\n",
    "adxdata['adx1'] = adxdata.apply(lambda x : 1 if x['ADX'] > 25 else 0, axis=1)\n",
    "adxdata['adx2'] = adxdata.apply(lambda x : -1 if x['ADX'] < 20 else 0, axis=1)\n",
    "adxdata['Signw'] = adxdata.apply(lambda x : x['adx1'] + x['adx2'] , axis=1)\n",
    "n_days = len(adxdata['ADX'])\n",
    "Signal = adxdata['Signw']\n",
    "psy = []\n",
    "\n",
    "for d in range(0, n_days):\n",
    "    if Signal[d] == 1:\n",
    "        psycology = 1\n",
    "        psy.append(psycology)\n",
    "    \n",
    "    elif Signal[d] == -1:\n",
    "        psycology = 0\n",
    "        psy.append(psycology)\n",
    "    \n",
    "    elif Signal[d] == 0:\n",
    "        psycology = 0\n",
    "        psy.append(psycology)\n",
    "        \n",
    "adxdata['Trend'] = psy\n",
    "del adxdata['Signw']\n",
    "del adxdata['adx1']\n",
    "del adxdata['adx2']"
   ]
  },
  {
   "cell_type": "markdown",
   "metadata": {},
   "source": [
    "# 3. Relative Strength Index (RSI)"
   ]
  },
  {
   "cell_type": "code",
   "execution_count": null,
   "metadata": {},
   "outputs": [],
   "source": [
    "#Compute Relatie Strength Index (RSI)\n",
    "rsi = talib.RSI(stock_close, timeperiod=14)\n",
    "dict = {'Close': stock_close, 'RSI': rsi }\n",
    "rsidata = []\n",
    "rsidata = pd.DataFrame(data=dict)\n",
    "rsidata.dropna(inplace=True)\n",
    "rsidata['rsi1'] = rsidata.apply(lambda x : 1 if x['RSI'] < 30 else 0, axis=1)\n",
    "rsidata['rsi2'] = rsidata.apply(lambda x : -1 if x['RSI'] > 70 else 0, axis=1)\n",
    "rsidata['Sign1'] = rsidata.apply(lambda x : x['rsi1'] + x['rsi2'], axis=1)\n",
    "n_days = len(rsidata['RSI'])\n",
    "Signal = rsidata['Sign1']\n",
    "psy = []\n",
    "\n",
    "for d in range(0, n_days):\n",
    "    if Signal[d] == 1:\n",
    "        psycology = 1\n",
    "        psy.append(psycology)\n",
    "    \n",
    "    elif Signal[d] == -1:\n",
    "        psycology = 0\n",
    "        psy.append(psycology)\n",
    "    \n",
    "    elif Signal[d] == 0:\n",
    "        psycology = 0\n",
    "        psy.append(psycology)\n",
    "        \n",
    "rsidata['Psycology'] = psy\n",
    "del rsidata['Sign1']\n",
    "del rsidata['rsi1']\n",
    "del rsidata['rsi2']"
   ]
  },
  {
   "cell_type": "markdown",
   "metadata": {},
   "source": [
    "# Volatility Indicators"
   ]
  },
  {
   "cell_type": "markdown",
   "metadata": {},
   "source": [
    "# 4. Bollinger Bands"
   ]
  },
  {
   "cell_type": "code",
   "execution_count": null,
   "metadata": {},
   "outputs": [],
   "source": [
    "#Compute Bollinger Bands\n",
    "upper, middle, lower = talib.BBANDS(stock_close, timeperiod=26)\n",
    "dict = {'Close': stock_close, 'Middle': middle, 'Upper': upper, 'Lower': lower }\n",
    "bbdata = []\n",
    "bbdata = pd.DataFrame(data=dict)\n",
    "bbdata.dropna(inplace=True)\n",
    "\n",
    "#Generate the Long and Short Signals\n",
    "n_days = len(bbdata['Middle'])\n",
    "cash = 1\n",
    "stock = 0\n",
    "position = []\n",
    "spread = stock_close\n",
    "ma = middle\n",
    "upper_band = upper\n",
    "lower_band = lower\n",
    "\n",
    "for d in range(0, n_days):\n",
    "    \n",
    "    # Long if spread < lower band & if not bought yet\n",
    "    if spread[d] < lower_band[d] and cash == 1:\n",
    "        signal = 1\n",
    "        cash = 0\n",
    "        stock = 1\n",
    "        position.append(signal)\n",
    "        \n",
    "        \n",
    "    # Take Profit if spread > moving average & if already bought\n",
    "    elif spread[d] > ma[d] and stock == 1:\n",
    "        signal = 3\n",
    "        cash = 1\n",
    "        stock = 0\n",
    "        position.append(signal)\n",
    "        \n",
    "    # Short if spread > upper band and no current position\n",
    "    elif spread[d] > upper_band[d] and cash == 1:\n",
    "        signal = -1\n",
    "        cash = 0\n",
    "        stock = -1\n",
    "        position.append(signal)\n",
    "        \n",
    "\n",
    "    # Take Profit if spread < moving average & if already short\n",
    "    elif spread[d] < ma[d] and stock == -1:\n",
    "        signal = 3\n",
    "        cash = 1\n",
    "        stock = 0\n",
    "        position.append(signal)\n",
    "    \n",
    "    else:\n",
    "        signal = 0\n",
    "        position.append(signal)\n",
    "        \n",
    "bbdata['Position1'] = position\n",
    "bbdata['Position1'] = bbdata['Position1'].replace(to_replace=0, method= 'ffill')\n",
    "bbdata['Position1'] = bbdata['Position1'].replace(3,0)\n",
    "bbdata['Position'] = bbdata['Position1']\n",
    "del bbdata['Position1']\n",
    "t_days = len(bbdata['Middle'])\n",
    "Signal = bbdata['Position']\n",
    "pos = []\n",
    "\n",
    "for d in range(0, t_days):\n",
    "    if Signal[d] == 0:\n",
    "        strategy = 0\n",
    "        pos.append(strategy)\n",
    "    \n",
    "    elif Signal[d] == 1:\n",
    "        strategy = 1\n",
    "        pos.append(strategy)\n",
    "    \n",
    "    elif Signal[d] == -1:\n",
    "        strategy = 0\n",
    "        pos.append(strategy)\n",
    "\n",
    "bbdata['Strategy'] = pos"
   ]
  },
  {
   "cell_type": "markdown",
   "metadata": {},
   "source": [
    "# Volume Indicators"
   ]
  },
  {
   "cell_type": "markdown",
   "metadata": {},
   "source": [
    "# 5. Force Index"
   ]
  },
  {
   "cell_type": "code",
   "execution_count": null,
   "metadata": {},
   "outputs": [],
   "source": [
    "#Force Index Function\n",
    "def ForceIndex(Volume, Close):\n",
    "    dict = {'Volume': Volume, 'Close': Close}\n",
    "    df = pd.DataFrame(data=dict)\n",
    "    df.dropna(inplace=True)\n",
    "        FI = df['Volume']*(df['Close'] - df['Close'].shift(1))\n",
    "        return FI\n",
    "\n",
    "    #Compute Force Index\n",
    "fi = ForceIndex(stock_volume,stock_close)\n",
    "efi = talib.EMA(fi, timeperiod=13)\n",
    "dict = {'Close': stock_close, 'EFI': efi }\n",
    "efidata = []\n",
    "efidata = pd.DataFrame(data=dict)\n",
    "efidata.dropna(inplace=True)\n",
    "efidata['efi_sign'] = efidata.apply(lambda x : 1 if x['EFI'] > 0 else -1, axis=1)\n",
    "n_days = len(efidata['EFI'])\n",
    "Signal = efidata['efi_sign']\n",
    "psy = []\n",
    "\n",
    "for d in range(0, n_days):\n",
    "    if Signal[d] == 1:\n",
    "        psycology = 1\n",
    "        psy.append(psycology)\n",
    "    \n",
    "    elif Signal[d] == -1:\n",
    "        psycology = 0\n",
    "        psy.append(psycology)\n",
    "      \n",
    "efidata['Psycology'] = psy\n",
    "del efidata['efi_sign']"
   ]
  },
  {
   "cell_type": "markdown",
   "metadata": {},
   "source": [
    "# Classify Next Days Stock Move"
   ]
  },
  {
   "cell_type": "code",
   "execution_count": null,
   "metadata": {},
   "outputs": [],
   "source": [
    "#Compute Weekly Stock Move and Iddentify if > 0.003\n",
    "stock_move = stock_close.shift(-1)\n",
    "dict = {'Close': stock_close, 'Move': stock_move}\n",
    "sdmdata = []\n",
    "sdmdata = pd.DataFrame(data=dict)\n",
    "sdmdata.dropna(inplace=True)\n",
    "sdmdata['sign'] = sdmdata.apply(lambda x : 1 if np.log(x['Move']/x['Close']) > 0 else -1, axis=1)\n",
    "n_days = len(sdmdata['Move'])\n",
    "Signal = sdmdata['sign']\n",
    "psy = []\n",
    "\n",
    "for d in range(0, n_days):\n",
    "    if Signal[d] == 1:\n",
    "        psycology = 1\n",
    "        psy.append(psycology)\n",
    "    \n",
    "    elif Signal[d] == -1:\n",
    "        psycology = 0\n",
    "        psy.append(psycology)\n",
    "         \n",
    "sdmdata['Next Week Move'] = psy\n",
    "del sdmdata['sign']"
   ]
  },
  {
   "cell_type": "markdown",
   "metadata": {},
   "source": [
    "# Consolidate Technical Indicators and Next Day's Stock Move"
   ]
  },
  {
   "cell_type": "code",
   "execution_count": null,
   "metadata": {},
   "outputs": [],
   "source": [
    "#Data\n",
    "Close = pd.DataFrame({'Close': stock_close})\n",
    "NWM = pd.DataFrame({'Next Week Move': sdmdata['Next Week Move']})\n",
    "MACD = pd.DataFrame({'MACD': macdata['MACD_Signal']})\n",
    "ADX = pd.DataFrame({'ADX': adxdata['Trend']})\n",
    "MHIST = pd.DataFrame({'MHIST': machdata['MHIST_Signal']})\n",
    "RSI = pd.DataFrame({'RSI': rsidata['Psycology']})\n",
    "BB = pd.DataFrame({'BB': bbdata['Strategy']})\n",
    "FI = pd.DataFrame({'FI': efidata['Psycology']})\n",
    "\n",
    "#Merge\n",
    "merge1 = pd.merge(Close, NWM, left_index=True, right_index=True, how='outer')\n",
    "merge2 = pd.merge(merge1, MACD, left_index=True, right_index=True, how='outer')\n",
    "merge3 = pd.merge(merge2, ADX, left_index=True, right_index=True, how='outer')\n",
    "merge4 = pd.merge(merge3, MHIST, left_index=True, right_index=True, how='outer')\n",
    "merge5 = pd.merge(merge4, RSI, left_index=True, right_index=True, how='outer')\n",
    "merge6 = pd.merge(merge5, BB, left_index=True, right_index=True, how='outer')\n",
    "df_daily = pd.merge(merge6, FI, left_index=True, right_index=True, how='outer')\n",
    "\n",
    "df_daily.dropna(inplace=True)"
   ]
  },
  {
   "cell_type": "markdown",
   "metadata": {},
   "source": [
    "# Build Random Forest Algorithm and Evalate"
   ]
  },
  {
   "cell_type": "code",
   "execution_count": null,
   "metadata": {},
   "outputs": [],
   "source": [
    "#Split Data\n",
    "x = df_daily[['MACD', 'ADX', 'MHIST', 'RSI', 'BB', 'FI']]\n",
    "y = df_daily['Next Week Move']\n",
    "z = df_daily['Close']\n",
    "\n",
    "x_train, x_test, y_train, y_test = train_test_split(x, y, random_state=1124, test_size=0.25)\n",
    "\n",
    "#Generate Random Forest Algorithm\n",
    "model = RandomForestClassifier(n_estimators=100,max_depth=5,max_features=None,max_leaf_nodes=None,\n",
    "                               min_samples_leaf=1, min_samples_split=2,oob_score=True,random_state=1124)\n",
    "model.fit(x_train,y_train)\n",
    "#Evaluate Model\n",
    "training_score = model.score(x_train, y_train)\n",
    "test_score = model.score(x_test, y_test)\n",
    "dif = training_score - test_score\n",
    "print('Model Training Score is:', training_score)\n",
    "print('Model Test Score is:', test_score)\n",
    "print('Model Difference is:', dif)\n",
    "pred_prob_test=model.predict_proba(x_test) \n",
    "pred_test=model.predict(x_test) \n",
    "pred_train=model.predict(x_train)\n",
    "pred_prob_train=model.predict_proba(x_train)\n",
    "print('Model OOB Score is:', model.oob_score_)\n",
    "AUC_train = roc_auc_score(y_train,model.predict(x_train))\n",
    "AUC_test = roc_auc_score(y_test,model.predict(x_test))\n",
    "dift = AUC_train - AUC_test\n",
    "print('Model AUC Traing Score is:', AUC_train)\n",
    "print('Model AUC Test Score is:', AUC_test)\n",
    "print('AUC Difference is:', dift)"
   ]
  },
  {
   "cell_type": "markdown",
   "metadata": {},
   "source": [
    "# Strategy Analysis: Training Period"
   ]
  },
  {
   "cell_type": "code",
   "execution_count": null,
   "metadata": {},
   "outputs": [],
   "source": [
    "#Prepare\n",
    "T1data = df_daily[:1844]\n",
    "del T1data ['Next Week Move']\n",
    "\n",
    "inx1 = T1data[['MACD', 'ADX', 'MHIST', 'RSI', 'BB', 'FI']]\n",
    "inclose1 = T1data['Close']\n",
    "\n",
    "predictions1 =model.predict(inx1)\n",
    "T1data['Predict'] = predictions1\n",
    "R1data = T1data[['Close', 'Predict', 'MACD', 'RSI', 'BB']]\n",
    "R1data['NextClose'] = R1data['Close'].shift(-1)\n",
    "R1data.dropna(inplace=True)\n",
    "\n",
    "#Strategy Return\n",
    "R1data['Strategy Return'] = R1data.apply(lambda x : np.log(x['NextClose']/x['Close']) if \n",
    "                                         x['Predict'] == 1 else 0, axis=1)\n",
    "Total_Return1 = R1data['Strategy Return'].sum()\n",
    "Cum_Return1 = R1data['Strategy Return'].cumsum()\n",
    "print('The Total Return for the Strategy is:', Total_Return1)\n",
    "\n",
    "#MACD\n",
    "R1data['MACD Return'] = R1data.apply(lambda x : np.log(x['NextClose']/x['Close']) if x['MACD'] == 1 else 0.001, axis=1)\n",
    "Total_MACD1 = R1data['MACD Return'].sum()\n",
    "Cum_MACD1 = R1data['MACD Return'].cumsum()\n",
    "print('The Total Return for the MACD Strategy is:', Total_MACD1)\n",
    "\n",
    "#RSI\n",
    "R1data['RSI Return'] = R1data.apply(lambda x : np.log(x['NextClose']/x['Close']) if x['RSI'] == 1 else 0.001, axis=1)\n",
    "Total_RSI1 = R1data['RSI Return'].sum()\n",
    "Cum_RSI1 = R1data['RSI Return'].cumsum()\n",
    "print('The Total Return for the RSI Strategy is:', Total_RSI1)\n",
    "\n",
    "#BB\n",
    "R1data['BB Return'] = R1data.apply(lambda x : np.log(x['NextClose']/x['Close']) if x['BB'] == 1 else 0.001, axis=1)\n",
    "Total_BB1 = R1data['BB Return'].sum()\n",
    "Cum_BB1 = R1data['BB Return'].cumsum()\n",
    "print('The Total Return for the BB Strategy is:', Total_BB1)\n",
    "\n",
    "#Buy and Hold Return\n",
    "R1data['Buy & Hold Returns'] = np.log(R1data['NextClose'] /R1data['Close'])\n",
    "BH_Return1 = R1data['Buy & Hold Returns'].sum()\n",
    "BH_Cum_Return1 = R1data['Buy & Hold Returns'].cumsum()\n",
    "print('The Buy and Hold Strategy Return is:', BH_Return1)"
   ]
  },
  {
   "cell_type": "markdown",
   "metadata": {},
   "source": [
    "# Plot Strategy Returns: Training Period"
   ]
  },
  {
   "cell_type": "code",
   "execution_count": null,
   "metadata": {},
   "outputs": [],
   "source": [
    "fig, ax = plt.subplots(figsize=(20, 10))\n",
    "ax.plot(R1data.index, Cum_Return1, linewidth=2, color='green')\n",
    "ax.plot(R1data.index, Cum_MACD1, linewidth=2, color='red')\n",
    "ax.plot(R1data.index, Cum_RSI1, linewidth=2, color='blue')\n",
    "ax.plot(R1data.index, Cum_BB1, linewidth=2, color='orange')\n",
    "ax.plot(R1data.index, BH_Cum_Return1, linewidth=2, color='olive')\n",
    "\n",
    "ax.set(xlabel='Date', ylabel='Cum Returns',\n",
    "       title='Returns Analysis: Training Period')\n",
    "ax.grid()\n",
    "\n",
    "ax.legend(fontsize=20, loc=0)\n",
    "\n",
    "plt.show()"
   ]
  },
  {
   "cell_type": "markdown",
   "metadata": {},
   "source": [
    "# Strategy Analysis: Test Period"
   ]
  },
  {
   "cell_type": "code",
   "execution_count": null,
   "metadata": {},
   "outputs": [],
   "source": [
    "#Prepare\n",
    "Tdata = df_daily[-615:]\n",
    "del Tdata ['Next Week Move']\n",
    "\n",
    "inx = Tdata[['MACD', 'ADX', 'MHIST', 'RSI', 'BB', 'FI']]\n",
    "inclose = Tdata['Close']\n",
    "\n",
    "predictions =model.predict(inx)\n",
    "Tdata['Predict'] = predictions\n",
    "\n",
    "Rdata = Tdata[['Close', 'Predict', 'MACD', 'RSI', 'BB']]\n",
    "Rdata['NextClose'] = Rdata['Close'].shift(-1)\n",
    "Rdata.dropna(inplace=True)\n",
    "\n",
    "#Strategy Return\n",
    "Rdata['Strategy Return'] = Rdata.apply(lambda x : np.log(x['NextClose']/x['Close']) if x['Predict'] == 1 else 0, axis=1)\n",
    "Total_Return = Rdata['Strategy Return'].sum()\n",
    "Cum_Return = Rdata['Strategy Return'].cumsum()\n",
    "print('The Total Return for the Strategy is:', Total_Return)\n",
    "\n",
    "#MACD\n",
    "Rdata['MACD Return'] = Rdata.apply(lambda x : np.log(x['NextClose']/x['Close']) if x['MACD'] == 1 else 0, axis=1)\n",
    "Total_MACD = Rdata['MACD Return'].sum()\n",
    "Cum_MACD = Rdata['MACD Return'].cumsum()\n",
    "print('The Total Return for the MACD Strategy is:', Total_MACD)\n",
    "\n",
    "#RSI\n",
    "Rdata['RSI Return'] = Rdata.apply(lambda x : np.log(x['NextClose']/x['Close']) if x['RSI'] == 1 else 0, axis=1)\n",
    "Total_RSI = Rdata['RSI Return'].sum()\n",
    "Cum_RSI = Rdata['RSI Return'].cumsum()\n",
    "print('The Total Return for the RSI Strategy is:', Total_RSI)\n",
    "\n",
    "#BB\n",
    "Rdata['BB Return'] = Rdata.apply(lambda x : np.log(x['NextClose']/x['Close']) if x['BB'] == 1 else 0, axis=1)\n",
    "Total_BB = Rdata['BB Return'].sum()\n",
    "Cum_BB = Rdata['BB Return'].cumsum()\n",
    "print('The Total Return for the BB Strategy is:', Total_BB)\n",
    "\n",
    "#Buy and Hold Return\n",
    "Rdata['Buy & Hold Returns'] = np.log(Rdata['NextClose'] /Rdata['Close'])\n",
    "BH_Return = Rdata['Buy & Hold Returns'].sum()\n",
    "BH_Cum_Return = Rdata['Buy & Hold Returns'].cumsum()\n",
    "print('The Buy and Hold Strategy Return is:', BH_Return)\n"
   ]
  },
  {
   "cell_type": "markdown",
   "metadata": {},
   "source": [
    "# Plot Strategy Returns: Test Period"
   ]
  },
  {
   "cell_type": "code",
   "execution_count": null,
   "metadata": {},
   "outputs": [],
   "source": [
    "fig, ax = plt.subplots(figsize=(20, 10))\n",
    "ax.plot(Rdata.index, Cum_Return, linewidth=2, color='green')\n",
    "ax.plot(Rdata.index, Cum_MACD, linewidth=2, color='red')\n",
    "ax.plot(Rdata.index, Cum_RSI, linewidth=2, color='blue')\n",
    "ax.plot(Rdata.index, Cum_BB, linewidth=2, color='orange')\n",
    "ax.plot(Rdata.index, BH_Cum_Return, linewidth=2, color='olive')\n",
    "\n",
    "\n",
    "ax.set(xlabel='Date', ylabel='Cum Returns',\n",
    "       title='Returns Analysis: Test Period')\n",
    "ax.grid()\n",
    "\n",
    "ax.legend(fontsize=20, loc=0)\n",
    "\n",
    "plt.show()"
   ]
  },
  {
   "cell_type": "code",
   "execution_count": null,
   "metadata": {},
   "outputs": [],
   "source": [
    "Rtdata = Rdata[['Strategy Return', 'MACD Return', 'RSI Return', 'BB Return', 'Buy & Hold Returns']]\n",
    "Rtdata.to_csv('ABG_Rt_da.csv')"
   ]
  }
 ],
 "metadata": {
  "kernelspec": {
   "display_name": "Python 3",
   "language": "python",
   "name": "python3"
  },
  "language_info": {
   "codemirror_mode": {
    "name": "ipython",
    "version": 3
   },
   "file_extension": ".py",
   "mimetype": "text/x-python",
   "name": "python",
   "nbconvert_exporter": "python",
   "pygments_lexer": "ipython3",
   "version": "3.7.3"
  }
 },
 "nbformat": 4,
 "nbformat_minor": 2
}
