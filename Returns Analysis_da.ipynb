{
 "cells": [
  {
   "cell_type": "markdown",
   "metadata": {},
   "source": [
    "# Strategy Returns Analysis"
   ]
  },
  {
   "cell_type": "markdown",
   "metadata": {},
   "source": [
    "# Import Libraries"
   ]
  },
  {
   "cell_type": "code",
   "execution_count": null,
   "metadata": {},
   "outputs": [],
   "source": [
    "import os\n",
    "import pandas as pd\n",
    "import numpy as np\n",
    "import talib\n",
    "import matplotlib.pyplot as plt\n",
    "%matplotlib inline\n",
    "import datetime"
   ]
  },
  {
   "cell_type": "markdown",
   "metadata": {},
   "source": [
    "# Import Data"
   ]
  },
  {
   "cell_type": "code",
   "execution_count": null,
   "metadata": {},
   "outputs": [],
   "source": [
    "path = \"C:/Users/User/Desktop/Research Project/Top40_Investing\"\n",
    "os.chdir(path)\n",
    "\n",
    "ABG = pd.read_csv(\"ABG_Rt_da.csv\", index_col=0, parse_dates=True)\n",
    "AGL = pd.read_csv(\"AGL_Rt_da.csv\", index_col=0, parse_dates=True)\n",
    "BHP = pd.read_csv(\"BHP_Rt_da.csv\", index_col=0, parse_dates=True)\n",
    "CFR = pd.read_csv(\"CFR_Rt_da.csv\", index_col=0, parse_dates=True)\n",
    "FSR = pd.read_csv(\"FSR_Rt_da.csv\", index_col=0, parse_dates=True)\n",
    "MTN = pd.read_csv(\"MTN_Rt_da.csv\", index_col=0, parse_dates=True)\n",
    "NPN = pd.read_csv(\"NPN_Rt_da.csv\", index_col=0, parse_dates=True)\n",
    "SBK = pd.read_csv(\"SBK_Rt_da.csv\", index_col=0, parse_dates=True)\n",
    "SLM = pd.read_csv(\"SLM_Rt_da.csv\", index_col=0, parse_dates=True)\n",
    "SOL = pd.read_csv(\"SOL_Rt_da.csv\", index_col=0, parse_dates=True)\n"
   ]
  },
  {
   "cell_type": "markdown",
   "metadata": {},
   "source": [
    "# Returns Analysis"
   ]
  },
  {
   "cell_type": "code",
   "execution_count": null,
   "metadata": {},
   "outputs": [],
   "source": [
    "prop = 0.1\n",
    "\n",
    "ABG = ABG*prop\n",
    "AGL = AGL*prop\n",
    "BHP = BHP*prop\n",
    "CFR = CFR*prop\n",
    "FSR = FSR*prop\n",
    "MTN = MTN*prop\n",
    "NPN = NPN*prop\n",
    "SBK = SBK*prop\n",
    "SLM = SLM*prop\n",
    "SOL = SOL*prop\n",
    "\n",
    "#Strategy Returns\n",
    "Strategy_Returns = (ABG['Strategy Return'] + AGL['Strategy Return'] + BHP['Strategy Return'] + CFR['Strategy Return'] \n",
    "                    + FSR['Strategy Return'] + MTN['Strategy Return'] + NPN['Strategy Return'] \n",
    "                    + SBK['Strategy Return'] + SLM['Strategy Return'] + SOL['Strategy Return'])\n",
    "Strategy_Returns = pd.DataFrame(Strategy_Returns.values, columns = ['Strategy Returns'], index=Strategy_Returns.index)\n",
    "\n",
    "#MACD Returns\n",
    "MACD_Returns = (ABG['MACD Return'] + AGL['MACD Return'] + BHP['MACD Return'] + CFR['MACD Return'] \n",
    "                    + FSR['MACD Return'] + MTN['MACD Return'] + NPN['MACD Return'] \n",
    "                    + SBK['MACD Return'] + SLM['MACD Return'] + SOL['MACD Return'])\n",
    "MACD_Returns = pd.DataFrame(MACD_Returns.values, columns = ['MACD Returns'], index=MACD_Returns.index)\n",
    "\n",
    "\n",
    "#RSI Returns\n",
    "RSI_Returns = (ABG['RSI Return'] + AGL['RSI Return'] + BHP['RSI Return'] + CFR['RSI Return'] \n",
    "                    + FSR['RSI Return'] + MTN['RSI Return'] + NPN['RSI Return'] \n",
    "                    + SBK['RSI Return'] + SLM['RSI Return'] + SOL['RSI Return'])\n",
    "RSI_Returns = pd.DataFrame(RSI_Returns.values, columns = ['RSI Returns'], index=RSI_Returns.index)\n",
    "\n",
    "#BB Returns\n",
    "BB_Returns = (ABG['BB Return'] + AGL['BB Return'] + BHP['BB Return'] + CFR['BB Return'] \n",
    "                    + FSR['BB Return'] + MTN['BB Return'] + NPN['BB Return'] \n",
    "                    + SBK['BB Return'] + SLM['BB Return'] + SOL['BB Return'])\n",
    "\n",
    "BB_Returns = pd.DataFrame(BB_Returns.values, columns = ['BB Returns'], index=BB_Returns.index)\n",
    "\n",
    "#Buy and Hold Returns\n",
    "BH_Returns = (ABG['Buy & Hold Returns'] + AGL['Buy & Hold Returns'] + BHP['Buy & Hold Returns'] + CFR['Buy & Hold Returns'] \n",
    "                    + FSR['Buy & Hold Returns'] + MTN['Buy & Hold Returns'] + NPN['Buy & Hold Returns'] \n",
    "                    + SBK['Buy & Hold Returns'] + SLM['Buy & Hold Returns'] + SOL['Buy & Hold Returns'])\n",
    "BH_Returns = pd.DataFrame(BH_Returns.values, columns = ['BH Returns'], index=BH_Returns.index)"
   ]
  },
  {
   "cell_type": "markdown",
   "metadata": {},
   "source": [
    "# Performance Analysis"
   ]
  },
  {
   "cell_type": "code",
   "execution_count": null,
   "metadata": {},
   "outputs": [],
   "source": [
    "dict = {'St_Rt': Strategy_Returns['Strategy Returns'], 'MACD_Rt': MACD_Returns['MACD Returns'], \n",
    "        'RSI_Rt': RSI_Returns['RSI Returns'], 'BB_Rt': BB_Returns['BB Returns'], 'BH_Rt':BH_Returns['BH Returns']}\n",
    "df1 = []\n",
    "df1 = pd.DataFrame(data=dict)\n",
    "df1.dropna(inplace=True)\n",
    "\n",
    "#training: 1849 and test: 610\n",
    "df = df1[-610:]\n",
    "\n",
    "#Strategy Return\n",
    "Total_Strategy_Return = df['St_Rt'].sum()\n",
    "Cum_Strategy_Return = df['St_Rt'].cumsum()\n",
    "print('The Strategy Return is:', Total_Strategy_Return)\n",
    "\n",
    "#MACD Return\n",
    "Total_MACD_Return = df['MACD_Rt'].sum()\n",
    "Cum_MACD_Return = df['MACD_Rt'].cumsum()\n",
    "print('The MACD Return is:', Total_MACD_Return)\n",
    "\n",
    "#RSI Return\n",
    "Total_RSI_Return = df['RSI_Rt'].sum()\n",
    "Cum_RSI_Return = df['RSI_Rt'].cumsum()\n",
    "print('The RSI Return is:', Total_RSI_Return)\n",
    "\n",
    "#BB Return\n",
    "Total_BB_Return = df['BB_Rt'].sum()\n",
    "Cum_BB_Return = df['BB_Rt'].cumsum()\n",
    "print('The BB Return is:', Total_BB_Return)\n",
    "\n",
    "#BH Return\n",
    "Total_BH_Return = df['BH_Rt'].sum()\n",
    "Cum_BH_Return = df['BH_Rt'].cumsum()\n",
    "print('The Buy and Hold Return is:', Total_BH_Return)"
   ]
  },
  {
   "cell_type": "markdown",
   "metadata": {},
   "source": [
    "# Plot: Strategy Returns vs. Benchmark vs. (MACD, RSI, BB)"
   ]
  },
  {
   "cell_type": "code",
   "execution_count": null,
   "metadata": {},
   "outputs": [],
   "source": [
    "fig, ax = plt.subplots(figsize=(20, 10))\n",
    "ax.plot(df.index, Cum_Strategy_Return, linewidth=2, color='green')\n",
    "ax.plot(df.index, Cum_MACD_Return, linewidth=2, color='olive')\n",
    "ax.plot(df.index, Cum_RSI_Return, linewidth=2, color='red')\n",
    "ax.plot(df.index, Cum_BB_Return, linewidth=2, color='blue')\n",
    "ax.plot(df.index, Cum_BH_Return, linewidth=2, color='orange')\n",
    "\n",
    "ax.set(xlabel='Date', ylabel='Cum Returns',\n",
    "       title='Strategy Returns')\n",
    "ax.grid()\n",
    "\n",
    "ax.legend(fontsize=20, loc=0)\n",
    "\n",
    "plt.show()"
   ]
  },
  {
   "cell_type": "markdown",
   "metadata": {},
   "source": [
    "# Single Stock Contribution to Portfolio Performance"
   ]
  },
  {
   "cell_type": "code",
   "execution_count": null,
   "metadata": {},
   "outputs": [],
   "source": [
    "ABG_Op = np.round(ABG['Strategy Return'].sum() - ABG['Buy & Hold Returns'].sum(),4)\n",
    "AGL_Op = np.round(AGL['Strategy Return'].sum() - AGL['Buy & Hold Returns'].sum(),4)\n",
    "BHP_Op = np.round(BHP['Strategy Return'].sum() - BHP['Buy & Hold Returns'].sum(),4)\n",
    "CFR_Op = np.round(CFR['Strategy Return'].sum() - CFR['Buy & Hold Returns'].sum(),4)\n",
    "FSR_Op = np.round(FSR['Strategy Return'].sum() - FSR['Buy & Hold Returns'].sum(),4)\n",
    "MTN_Op = np.round(MTN['Strategy Return'].sum() - MTN['Buy & Hold Returns'].sum(),4)\n",
    "NPN_Op = np.round(NPN['Strategy Return'].sum() - NPN['Buy & Hold Returns'].sum(),4)\n",
    "SBK_Op = np.round(SBK['Strategy Return'].sum() - SBK['Buy & Hold Returns'].sum(),4)\n",
    "SLM_Op = np.round(SLM['Strategy Return'].sum() - SLM['Buy & Hold Returns'].sum(),4)\n",
    "SOL_Op = np.round(SOL['Strategy Return'].sum() - SOL['Buy & Hold Returns'].sum(),4)\n",
    "stocks = ['ABG', 'AGL', 'BHP', 'CFS', 'FSR', 'MTN', 'NPN', 'SBK', 'SLM', 'SOL']\n",
    "\n",
    "Performance = [ABG_Op, AGL_Op, BHP_Op, CFR_Op, FSR_Op, MTN_Op, NPN_Op, SBK_Op, SLM_Op, SOL_Op]\n",
    "dict = {'Stocks': stocks, 'Performance': Performance}\n",
    "dt = []\n",
    "dt = pd.DataFrame(data=dict)\n",
    "dt.dropna(inplace=True)\n",
    "dt = dt.sort_values(by='Performance', ascending=False)\n",
    "\n",
    "fig, ax = plt.subplots(figsize=(15,8))\n",
    "\n",
    "ax.barh(dt['Stocks'], dt['Performance'], align='center',\n",
    "        color='olive', ecolor='black')\n",
    "ax.set_yticks(dt['Stocks'])\n",
    "ax.set_yticklabels(dt['Stocks'])\n",
    "ax.invert_yaxis()  # labels read top-to-bottom\n",
    "ax.set_xlabel('Performance')\n",
    "ax.set_ylabel('Stocks')\n",
    "ax.set_title('Single Stock Contribution to Performance')\n",
    "\n",
    "for i, v in enumerate(dt['Performance']):\n",
    "    ax.text(v, i, str(v), color='black', fontsize=10)\n",
    "\n",
    "    \n",
    "plt.show()"
   ]
  },
  {
   "cell_type": "code",
   "execution_count": null,
   "metadata": {},
   "outputs": [],
   "source": []
  }
 ],
 "metadata": {
  "kernelspec": {
   "display_name": "Python 3",
   "language": "python",
   "name": "python3"
  },
  "language_info": {
   "codemirror_mode": {
    "name": "ipython",
    "version": 3
   },
   "file_extension": ".py",
   "mimetype": "text/x-python",
   "name": "python",
   "nbconvert_exporter": "python",
   "pygments_lexer": "ipython3",
   "version": "3.6.5"
  }
 },
 "nbformat": 4,
 "nbformat_minor": 2
}
